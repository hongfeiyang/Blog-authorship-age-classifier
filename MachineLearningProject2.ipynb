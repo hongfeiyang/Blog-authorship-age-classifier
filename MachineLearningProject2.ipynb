{
 "cells": [
  {
   "cell_type": "code",
   "execution_count": 25,
   "metadata": {
    "scrolled": true
   },
   "outputs": [
    {
     "data": {
      "text/plain": [
       "['freq.pl',\n",
       " 'proj2.pdf',\n",
       " 'X_dev_feature.txt',\n",
       " 'train.proc',\n",
       " 'schler_springsymp06.pdf',\n",
       " 'test',\n",
       " 'iris',\n",
       " 'COMP30027_2018S1_proj2-rubric.pdf',\n",
       " 'top10.txt',\n",
       " 'COMP30027_2018S1_proj2-data.tgz',\n",
       " 'model.pickle',\n",
       " 'X_train_feature.txt',\n",
       " 'report-template.rtf',\n",
       " 'MachineLearningProject2.ipynb',\n",
       " 'test_top10.csv',\n",
       " 'test.py',\n",
       " 'train.freq',\n",
       " 'scripts-README.txt',\n",
       " 'out.csv',\n",
       " 'train_top10.csv',\n",
       " 'dev_raw.csv',\n",
       " 'csv.pl',\n",
       " 'COMP30027_2018S1_proj2-spec.pdf',\n",
       " 'process.pl',\n",
       " 'test_raw.csv',\n",
       " 'train_raw.csv',\n",
       " 'README.txt',\n",
       " '.ipynb_checkpoints',\n",
       " 'dev_top10.csv']"
      ]
     },
     "execution_count": 25,
     "metadata": {},
     "output_type": "execute_result"
    }
   ],
   "source": [
    "# Hongfei Yang 783661, Machine Learning 2018 S1 Project 2 code\n",
    "# part of the code are adatped from sklearn website and other sources\n",
    "# speical thanks to Javed Shaikh for his inspiration @ https://towardsdatascience.com/machine-learning-nlp-text-classification-using-scikit-learn-python-and-nltk-c52b92a7c73a\n",
    "\n",
    "import os\n",
    "import pandas as pd\n",
    "import numpy as np\n",
    "from sklearn.naive_bayes import GaussianNB, BernoulliNB\n",
    "from sklearn.cross_validation import train_test_split, cross_val_score\n",
    "from sklearn import metrics\n",
    "from sklearn.metrics import accuracy_score\n",
    "from sklearn.tree import DecisionTreeClassifier\n",
    "from sklearn import tree\n",
    "from sklearn.preprocessing import OneHotEncoder, LabelEncoder\n",
    "from sklearn import svm\n",
    "from sklearn.neighbors import KNeighborsClassifier\n",
    "from sklearn.cluster import KMeans\n",
    "from sklearn.ensemble import RandomForestClassifier\n",
    "from sklearn.metrics import confusion_matrix\n",
    "from sklearn.naive_bayes import BernoulliNB\n",
    "from sklearn.metrics import classification_report\n",
    "from sklearn.linear_model import LogisticRegression\n",
    "from sklearn.linear_model import SGDClassifier\n",
    "from sklearn.pipeline import Pipeline\n",
    "\n",
    "import multiprocessing\n",
    "import time\n",
    "import matplotlib.pyplot as plt\n",
    "os.listdir(\"./\")"
   ]
  },
  {
   "cell_type": "code",
   "execution_count": 2,
   "metadata": {
    "scrolled": true
   },
   "outputs": [],
   "source": [
    "#print(__doc__)\n",
    "\n",
    "import itertools\n",
    "import numpy as np\n",
    "import matplotlib.pyplot as plt\n",
    "\n",
    "from sklearn import svm, datasets\n",
    "from sklearn.model_selection import train_test_split\n",
    "from sklearn.metrics import confusion_matrix\n",
    "\n",
    "# import some data to play with\n",
    "iris = datasets.load_iris()\n",
    "X = iris.data\n",
    "y = iris.target\n",
    "class_names = iris.target_names\n",
    "\n",
    "# Split the data into a training set and a test set\n",
    "X_train, X_test, y_train, y_test = train_test_split(X, y, random_state=0)\n",
    "\n",
    "# Run classifier, using a model that is too regularized (C too low) to see\n",
    "# the impact on the results\n",
    "classifier = svm.SVC(kernel='linear', C=0.01)\n",
    "y_pred = classifier.fit(X_train, y_train).predict(X_test)\n",
    "\n",
    "\n",
    "def plot_confusion_matrix(cm, classes,\n",
    "                          normalize=False,\n",
    "                          title='Confusion matrix',\n",
    "                          cmap=plt.cm.Blues):\n",
    "    \"\"\"\n",
    "    This function prints and plots the confusion matrix.\n",
    "    Normalization can be applied by setting `normalize=True`.\n",
    "    \"\"\"\n",
    "    if normalize:\n",
    "        cm = cm.astype('float') / cm.sum(axis=1)[:, np.newaxis]\n",
    "        print(\"Normalized confusion matrix\")\n",
    "    else:\n",
    "        print('Confusion matrix, without normalization')\n",
    "\n",
    "    print(cm)\n",
    "\n",
    "    plt.imshow(cm, interpolation='nearest', cmap=cmap)\n",
    "    plt.title(title)\n",
    "    plt.colorbar()\n",
    "    tick_marks = np.arange(len(classes))\n",
    "    plt.xticks(tick_marks, classes, rotation=45)\n",
    "    plt.yticks(tick_marks, classes)\n",
    "\n",
    "    fmt = '.2f' if normalize else 'd'\n",
    "    thresh = cm.max() / 2.\n",
    "    for i, j in itertools.product(range(cm.shape[0]), range(cm.shape[1])):\n",
    "        plt.text(j, i, format(cm[i, j], fmt),\n",
    "                 horizontalalignment=\"center\",\n",
    "                 color=\"white\" if cm[i, j] > thresh else \"black\")\n",
    "\n",
    "    plt.tight_layout()\n",
    "    plt.ylabel('True label')\n",
    "    plt.xlabel('Predicted label')\n",
    "\n",
    "# Compute confusion matrix\n",
    "#cnf_matrix = confusion_matrix(y_test, y_pred)\n",
    "#np.set_printoptions(precision=2)\n",
    "\n",
    "# Plot non-normalized confusion matrix\n",
    "#plt.figure()\n",
    "#plot_confusion_matrix(cnf_matrix, classes=class_names,\n",
    "#                      title='Confusion matrix, without normalization')\n",
    "\n",
    "# Plot normalized confusion matrix\n",
    "#plt.figure()\n",
    "#plot_confusion_matrix(cnf_matrix, classes=class_names, normalize=True,\n",
    "#                      title='Normalized confusion matrix')\n",
    "\n",
    "#plt.show()"
   ]
  },
  {
   "cell_type": "code",
   "execution_count": 3,
   "metadata": {},
   "outputs": [],
   "source": [
    "def load_data(transform=True):\n",
    "    header_str = \"Instance_ID,anyways,cuz,digest,diva,evermean,fox,gonna,greg,haha,jayel,kinda,levengals,literacy,lol,melissa,nan,nat,postcount,ppl,rick,school,shep,sherry,spanners,teri,u,ur,urllink,wanna,work,Class\"\n",
    "    train_top10_header = header_str.split(\",\")\n",
    "    train_top10 = pd.read_csv(\"train_top10.csv\", header=None)\n",
    "    train_top10.columns = train_top10_header\n",
    "\n",
    "    dev_top10 = pd.read_csv(\"dev_top10.csv\", header=None)\n",
    "    dev_top10.columns = train_top10_header\n",
    "\n",
    "\n",
    "    X_train = train_top10.iloc[:,1:-1]\n",
    "    y_train = train_top10.iloc[:,-1]\n",
    "    X_test = dev_top10.iloc[:,1:-1]\n",
    "    y_test = dev_top10.iloc[:,-1]\n",
    "\n",
    "    if transform:\n",
    "        le_train = LabelEncoder()\n",
    "        y_train = le_train.fit_transform(y_train)\n",
    "        \"\"\"ohe = OneHotEncoder()\n",
    "        ohe.fit_transform(X_train)\n",
    "        ohe.feature_indices_\n",
    "        ohe.n_values_\"\"\"\n",
    "        le_test = LabelEncoder()\n",
    "        y_test = le_test.fit_transform(y_test)\n",
    "        le_test.classes_\n",
    "        \n",
    "    return X_train, y_train, X_test, y_test\n",
    "\n",
    "def load_train_data():\n",
    "    header_str = \"Instance_ID,anyways,cuz,digest,diva,evermean,fox,gonna,greg,haha,jayel,kinda,levengals,literacy,lol,melissa,nan,nat,postcount,ppl,rick,school,shep,sherry,spanners,teri,u,ur,urllink,wanna,work,Class\"\n",
    "    train_top10_header = header_str.split(\",\")\n",
    "    train_top10 = pd.read_csv(\"train_top10.csv\", header=None)\n",
    "    train_top10.columns = train_top10_header\n",
    "    train_top10.drop(columns=\"Instance_ID\", inplace=True)\n",
    "    return train_top10\n",
    "\n",
    "def load_dev_data():\n",
    "    header_str = \"Instance_ID,anyways,cuz,digest,diva,evermean,fox,gonna,greg,haha,jayel,kinda,levengals,literacy,lol,melissa,nan,nat,postcount,ppl,rick,school,shep,sherry,spanners,teri,u,ur,urllink,wanna,work,Class\"\n",
    "    train_top10_header = header_str.split(\",\")\n",
    "    dev_top10 = pd.read_csv(\"dev_top10.csv\", header=None)\n",
    "    dev_top10.columns = train_top10_header\n",
    "    dev_top10.drop(columns=\"Instance_ID\", inplace=True)\n",
    "    return dev_top10\n",
    "\n",
    "def load_test_data():\n",
    "    header_str = \"Instance_ID,anyways,cuz,digest,diva,evermean,fox,gonna,greg,haha,jayel,kinda,levengals,literacy,lol,melissa,nan,nat,postcount,ppl,rick,school,shep,sherry,spanners,teri,u,ur,urllink,wanna,work,Class\"\n",
    "    train_top10_header = header_str.split(\",\")\n",
    "    dev_top10 = pd.read_csv(\"test_top10.csv\", header=None)\n",
    "    dev_top10.columns = train_top10_header\n",
    "    dev_top10.drop(columns=\"Instance_ID\", inplace=True)\n",
    "    return dev_top10\n",
    "\n",
    "def combine_data():\n",
    "    \n",
    "    train_top10 = load_train_data()\n",
    "    dev_top10 = load_dev_data()\n",
    "    \n",
    "    return pd.concat([train_top10, dev_top10], axis=0, ignore_index=True)\n",
    "    \n",
    "def load_raw_data(name):\n",
    "    header_str = \"User_ID,Gender,Age,Occupation,Star_Sign,Date,Text\"\n",
    "    header = header_str.split(\",\")\n",
    "    if name not in ('train','test','dev'):\n",
    "        return 'invalid name'\n",
    "    else:\n",
    "        data = pd.read_csv(name+\"_raw.csv\", header=None)\n",
    "        data.columns=header\n",
    "        return data\n",
    "\n",
    "def load_top_10_data(name):\n",
    "    if name not in ('train','test','dev'):\n",
    "        return 'invalid name'\n",
    "    else:\n",
    "        header_str = \"Instance_ID,anyways,cuz,digest,diva,evermean,fox,gonna,greg,haha,jayel,kinda,levengals,literacy,lol,melissa,nan,nat,postcount,ppl,rick,school,shep,sherry,spanners,teri,u,ur,urllink,wanna,work,Class\"\n",
    "        top10_header = header_str.split(\",\")\n",
    "        top10 = pd.read_csv(name+\"_top10.csv\", header=None)\n",
    "        top10.columns = top10_header\n",
    "        top10.drop(columns=\"Instance_ID\", inplace=True)\n",
    "        return top10\n",
    "\n",
    "def get_new_X_y(new_data, transform=False, encoder=False):\n",
    "    \n",
    "    X_train = new_data.iloc[:,:-1]\n",
    "    y_train = new_data.iloc[:,-1]\n",
    "    \n",
    "    le_train = LabelEncoder()\n",
    "    new_y_train = le_train.fit_transform(y_train)\n",
    "    \n",
    "    if transform:\n",
    "        return X_train, y_train\n",
    "    else:\n",
    "        if encoder:\n",
    "            return X_train, new_y_train, le_train\n",
    "        else:\n",
    "            return X_train, new_y_train\n",
    "\n",
    "def split_X_y(data):\n",
    "    X = data.iloc[:,:-1]\n",
    "    y = data.iloc[:,-1]\n",
    "    return X, y"
   ]
  },
  {
   "cell_type": "code",
   "execution_count": 5,
   "metadata": {},
   "outputs": [
    {
     "data": {
      "text/plain": [
       "['14-16', '24-26', '34-36', '44-46', '?']"
      ]
     },
     "execution_count": 5,
     "metadata": {},
     "output_type": "execute_result"
    }
   ],
   "source": [
    "train_raw = load_raw_data('train')\n",
    "dev_raw = load_raw_data('dev')\n",
    "test_raw = load_raw_data('test')\n",
    "\n",
    "train_raw_grouby_ID = train_raw.groupby('User_ID')\n",
    "test_raw_grouby_ID = test_raw.groupby('User_ID')\n",
    "\n",
    "train_top10 = load_top_10_data('train')\n",
    "test_top10 = load_top_10_data('test')\n",
    "dev_top10 = load_top_10_data('dev')\n",
    "\n",
    "\n",
    "#train = pd.concat([pd.DataFrame(train_raw.iloc[:,-1].apply(len)), train_top10], axis=1, ignore_index=True)\n",
    "#dev = pd.concat([pd.DataFrame(dev_raw.iloc[:,-1].apply(len)), dev_top10], axis=1, ignore_index=True)\n",
    "\n",
    "#train = pd.concat([dev_top10, train_top10], axis=0, ignore_index=True)\n",
    "\n",
    "\n",
    "train = train_top10\n",
    "dev = dev_top10\n",
    "test = test_top10\n",
    "\n",
    "X_train, y_train = split_X_y(train)\n",
    "X_test, y_test = split_X_y(test)\n",
    "X_dev, y_dev = split_X_y(dev)\n",
    "#X = pd.concat([X_train, X_test],ignore_index=True)\n",
    "#y = pd.concat([y_train, y_test],ignore_index=True)\n",
    "\n",
    "le = LabelEncoder()\n",
    "#X = X.apply(le.fit_transform)\n",
    "y_train = le.fit_transform(y_train)\n",
    "classes = le.classes_\n",
    "classes = list(classes) + ['?']\n",
    "classes\n",
    "#enc = OneHotEncoder()\n",
    "#enc.fit(X)\n",
    "\n",
    "#onehotlabels = enc.transform(X).toarray()\n",
    "\n",
    "#X_train, X_test = onehotlabels[:len(X_train),:], onehotlabels[len(X_train):,:]\n",
    "#y_train, y_test = y[:len(y_train)], y[len(y_train):]\n",
    "\n",
    "\n"
   ]
  },
  {
   "cell_type": "code",
   "execution_count": 27,
   "metadata": {},
   "outputs": [
    {
     "name": "stderr",
     "output_type": "stream",
     "text": [
      "/usr/local/lib/python3.6/site-packages/sklearn/preprocessing/label.py:151: DeprecationWarning: The truth value of an empty array is ambiguous. Returning False, but in future this will result in an error. Use `array.size > 0` to check that an array is not empty.\n",
      "  if diff:\n",
      "/usr/local/lib/python3.6/site-packages/sklearn/preprocessing/label.py:151: DeprecationWarning: The truth value of an empty array is ambiguous. Returning False, but in future this will result in an error. Use `array.size > 0` to check that an array is not empty.\n",
      "  if diff:\n"
     ]
    },
    {
     "name": "stdout",
     "output_type": "stream",
     "text": [
      "accuracy score 0.3815847524927204\n",
      "Normalized confusion matrix\n",
      "[[0. 1. 0. 0. 0.]\n",
      " [0. 1. 0. 0. 0.]\n",
      " [0. 1. 0. 0. 0.]\n",
      " [0. 1. 0. 0. 0.]\n",
      " [0. 1. 0. 0. 0.]]\n"
     ]
    },
    {
     "name": "stderr",
     "output_type": "stream",
     "text": [
      "/usr/local/lib/python3.6/site-packages/sklearn/preprocessing/label.py:151: DeprecationWarning: The truth value of an empty array is ambiguous. Returning False, but in future this will result in an error. Use `array.size > 0` to check that an array is not empty.\n",
      "  if diff:\n"
     ]
    },
    {
     "name": "stdout",
     "output_type": "stream",
     "text": [
      "             precision    recall  f1-score   support\n",
      "\n",
      "      14-16       0.00      0.00      0.00     13100\n",
      "      24-26       0.38      1.00      0.55     17298\n",
      "      34-36       0.00      0.00      0.00      2584\n",
      "      44-46       0.00      0.00      0.00       551\n",
      "          ?       0.00      0.00      0.00     11799\n",
      "\n",
      "avg / total       0.15      0.38      0.21     45332\n",
      "\n"
     ]
    },
    {
     "name": "stderr",
     "output_type": "stream",
     "text": [
      "/usr/local/lib/python3.6/site-packages/sklearn/metrics/classification.py:1135: UndefinedMetricWarning: Precision and F-score are ill-defined and being set to 0.0 in labels with no predicted samples.\n",
      "  'precision', 'predicted', average, warn_for)\n"
     ]
    },
    {
     "data": {
      "image/png": "[encoded data removed]",
      "text/plain": [
       "<Figure size 432x288 with 2 Axes>"
      ]
     },
     "metadata": {},
     "output_type": "display_data"
    }
   ],
   "source": [
    "from sklearn.dummy import DummyClassifier\n",
    "clf = DummyClassifier(strategy='most_frequent')\n",
    "clf.fit(X_train, y_train)\n",
    "print(\"accuracy score\", accuracy_score(y_pred=le.inverse_transform(clf.predict(X_dev)), y_true=y_dev))\n",
    "cm = confusion_matrix(y_pred=le.inverse_transform(clf.predict(X_dev)), y_true=y_dev)\n",
    "plot_confusion_matrix(cm, classes=classes, normalize=True, title='normalised confusion matrix')\n",
    "print(classification_report(y_pred=le.inverse_transform(clf.predict(X_dev)), y_true=y_dev, target_names=classes))"
   ]
  },
  {
   "cell_type": "code",
   "execution_count": 25,
   "metadata": {},
   "outputs": [
    {
     "name": "stderr",
     "output_type": "stream",
     "text": [
      "/usr/local/lib/python3.6/site-packages/sklearn/preprocessing/label.py:151: DeprecationWarning: The truth value of an empty array is ambiguous. Returning False, but in future this will result in an error. Use `array.size > 0` to check that an array is not empty.\n",
      "  if diff:\n",
      "/usr/local/lib/python3.6/site-packages/sklearn/preprocessing/label.py:151: DeprecationWarning: The truth value of an empty array is ambiguous. Returning False, but in future this will result in an error. Use `array.size > 0` to check that an array is not empty.\n",
      "  if diff:\n"
     ]
    },
    {
     "name": "stdout",
     "output_type": "stream",
     "text": [
      "accuracy score 0.4333803935409865\n",
      "Normalized confusion matrix\n",
      "[[3.33816794e-01 6.64427481e-01 1.14503817e-03 6.10687023e-04\n",
      "  0.00000000e+00]\n",
      " [1.14753151e-01 8.82529772e-01 2.31240606e-03 4.04671060e-04\n",
      "  0.00000000e+00]\n",
      " [5.10835913e-02 9.46207430e-01 2.70897833e-03 0.00000000e+00\n",
      "  0.00000000e+00]\n",
      " [5.98911071e-02 9.38294011e-01 1.81488203e-03 0.00000000e+00\n",
      "  0.00000000e+00]\n",
      " [1.72980761e-01 8.24476651e-01 2.03407068e-03 5.08517671e-04\n",
      "  0.00000000e+00]]\n"
     ]
    },
    {
     "name": "stderr",
     "output_type": "stream",
     "text": [
      "/usr/local/lib/python3.6/site-packages/sklearn/preprocessing/label.py:151: DeprecationWarning: The truth value of an empty array is ambiguous. Returning False, but in future this will result in an error. Use `array.size > 0` to check that an array is not empty.\n",
      "  if diff:\n"
     ]
    },
    {
     "name": "stdout",
     "output_type": "stream",
     "text": [
      "             precision    recall  f1-score   support\n",
      "\n",
      "      14-16       0.51      0.33      0.40     13100\n",
      "      24-26       0.42      0.88      0.57     17298\n",
      "      34-36       0.08      0.00      0.01      2584\n",
      "      44-46       0.00      0.00      0.00       551\n",
      "          ?       0.00      0.00      0.00     11799\n",
      "\n",
      "avg / total       0.31      0.43      0.33     45332\n",
      "\n",
      "[0.02967095 0.02991878 0.01588883 0.02007226 0.00673829 0.01450771\n",
      " 0.05842728 0.01111657 0.06252714 0.00124479 0.02784442 0.00158684\n",
      " 0.00564982 0.09156591 0.00777606 0.00286215 0.00555975 0.00885821\n",
      " 0.02466262 0.03624343 0.05873663 0.00514479 0.00445922 0.00423854\n",
      " 0.00147212 0.10713842 0.01414667 0.22083409 0.02990186 0.09120586]\n",
      "[(0.22083408731901263, 'urllink'), (0.10713842324142733, 'u'), (0.0915659139803295, 'lol'), (0.09120585959152207, 'work'), (0.06252713757956069, 'haha'), (0.05873662954323776, 'school'), (0.05842728056910491, 'gonna'), (0.036243432616631946, 'rick'), (0.02991877729381011, 'cuz'), (0.029901860542561606, 'wanna'), (0.029670952075058148, 'anyways'), (0.027844415080842178, 'kinda'), (0.024662617196269315, 'ppl'), (0.020072264489464163, 'diva'), (0.015888826977055032, 'digest'), (0.014507706415009711, 'fox'), (0.014146665583549083, 'ur'), (0.011116570596510781, 'greg'), (0.008858212769482714, 'postcount'), (0.007776059250317084, 'melissa'), (0.0067382900265812356, 'evermean'), (0.005649819225243568, 'literacy'), (0.005559752397675542, 'nat'), (0.005144791807985605, 'shep'), (0.004459223222118707, 'sherry'), (0.004238537843344908, 'spanners'), (0.002862145227381996, 'nan'), (0.0015868404038672462, 'levengals'), (0.0014721220480441457, 'teri'), (0.0012447850870002954, 'jayel')]\n"
     ]
    },
    {
     "name": "stderr",
     "output_type": "stream",
     "text": [
      "/usr/local/lib/python3.6/site-packages/sklearn/metrics/classification.py:1135: UndefinedMetricWarning: Precision and F-score are ill-defined and being set to 0.0 in labels with no predicted samples.\n",
      "  'precision', 'predicted', average, warn_for)\n"
     ]
    },
    {
     "data": {
      "image/png": "[encoded data removed]",
      "text/plain": [
       "<Figure size 432x288 with 2 Axes>"
      ]
     },
     "metadata": {},
     "output_type": "display_data"
    }
   ],
   "source": [
    "# Decision Tree\n",
    "clf = DecisionTreeClassifier(criterion='entropy', max_depth=None)\n",
    "clf.fit(X_train, y_train)\n",
    "print(\"accuracy score\", accuracy_score(y_pred=le.inverse_transform(clf.predict(X_dev)), y_true=y_dev))\n",
    "cm = confusion_matrix(y_pred=le.inverse_transform(clf.predict(X_dev)), y_true=y_dev)\n",
    "plot_confusion_matrix(cm, classes=classes, normalize=True, title='normalised confusion matrix')\n",
    "print(classification_report(y_pred=le.inverse_transform(clf.predict(X_dev)), y_true=y_dev, target_names=classes))\n",
    "print(clf.feature_importances_)\n"
   ]
  },
  {
   "cell_type": "code",
   "execution_count": 10,
   "metadata": {},
   "outputs": [],
   "source": []
  },
  {
   "cell_type": "code",
   "execution_count": 14,
   "metadata": {},
   "outputs": [
    {
     "name": "stderr",
     "output_type": "stream",
     "text": [
      "/usr/local/lib/python3.6/site-packages/sklearn/preprocessing/label.py:151: DeprecationWarning: The truth value of an empty array is ambiguous. Returning False, but in future this will result in an error. Use `array.size > 0` to check that an array is not empty.\n",
      "  if diff:\n"
     ]
    },
    {
     "name": "stdout",
     "output_type": "stream",
     "text": [
      "accuracy score 0.43393188034942204\n"
     ]
    },
    {
     "name": "stderr",
     "output_type": "stream",
     "text": [
      "/usr/local/lib/python3.6/site-packages/sklearn/preprocessing/label.py:151: DeprecationWarning: The truth value of an empty array is ambiguous. Returning False, but in future this will result in an error. Use `array.size > 0` to check that an array is not empty.\n",
      "  if diff:\n"
     ]
    },
    {
     "name": "stdout",
     "output_type": "stream",
     "text": [
      "Normalized confusion matrix\n",
      "[[3.37022901e-01 6.62519084e-01 3.81679389e-04 7.63358779e-05\n",
      "  0.00000000e+00]\n",
      " [1.15620303e-01 8.81720430e-01 2.48583651e-03 1.73430454e-04\n",
      "  0.00000000e+00]\n",
      " [5.14705882e-02 9.46981424e-01 1.54798762e-03 0.00000000e+00\n",
      "  0.00000000e+00]\n",
      " [5.44464610e-02 9.43738657e-01 1.81488203e-03 0.00000000e+00\n",
      "  0.00000000e+00]\n",
      " [1.75947114e-01 8.23035850e-01 8.47529452e-04 1.69505890e-04\n",
      "  0.00000000e+00]]\n"
     ]
    },
    {
     "name": "stderr",
     "output_type": "stream",
     "text": [
      "/usr/local/lib/python3.6/site-packages/sklearn/preprocessing/label.py:151: DeprecationWarning: The truth value of an empty array is ambiguous. Returning False, but in future this will result in an error. Use `array.size > 0` to check that an array is not empty.\n",
      "  if diff:\n"
     ]
    },
    {
     "name": "stdout",
     "output_type": "stream",
     "text": [
      "             precision    recall  f1-score   support\n",
      "\n",
      "      14-16       0.51      0.34      0.41     13100\n",
      "      24-26       0.42      0.88      0.57     17298\n",
      "      34-36       0.06      0.00      0.00      2584\n",
      "      44-46       0.00      0.00      0.00       551\n",
      "          ?       0.00      0.00      0.00     11799\n",
      "\n",
      "avg / total       0.31      0.43      0.33     45332\n",
      "\n"
     ]
    },
    {
     "name": "stderr",
     "output_type": "stream",
     "text": [
      "/usr/local/lib/python3.6/site-packages/sklearn/metrics/classification.py:1135: UndefinedMetricWarning: Precision and F-score are ill-defined and being set to 0.0 in labels with no predicted samples.\n",
      "  'precision', 'predicted', average, warn_for)\n"
     ]
    },
    {
     "data": {
      "image/png": "[encoded data removed]",
      "text/plain": [
       "<Figure size 432x288 with 2 Axes>"
      ]
     },
     "metadata": {},
     "output_type": "display_data"
    }
   ],
   "source": [
    "from sklearn.ensemble import AdaBoostClassifier\n",
    "\n",
    "clf = AdaBoostClassifier()\n",
    "clf.fit(X_train, y_train)\n",
    "print(\"accuracy score\", accuracy_score(y_pred=le.inverse_transform(clf.predict(X_dev)), y_true=y_dev))\n",
    "cm = confusion_matrix(y_pred=le.inverse_transform(clf.predict(X_dev)), y_true=y_dev)\n",
    "plot_confusion_matrix(cm, classes=classes, normalize=True, title='normalised confusion matrix (Adaptive Boosting)')\n",
    "print(classification_report(y_pred=le.inverse_transform(clf.predict(X_dev)), y_true=y_dev, target_names=classes))\n"
   ]
  },
  {
   "cell_type": "code",
   "execution_count": 70,
   "metadata": {},
   "outputs": [],
   "source": []
  },
  {
   "cell_type": "code",
   "execution_count": null,
   "metadata": {},
   "outputs": [],
   "source": [
    "from sklearn.dummy import DummyClassifier\n",
    "clf = DummyClassifier(strategy='most_frequent')\n",
    "clf.fit(X_train, y_train)\n",
    "accuracy_score(clf.predict(X_test), y_test)"
   ]
  },
  {
   "cell_type": "code",
   "execution_count": 72,
   "metadata": {},
   "outputs": [],
   "source": [
    "import os\n",
    "import time\n",
    "import string\n",
    "import pickle\n",
    "\n",
    "from operator import itemgetter\n",
    "\n",
    "from nltk.corpus import stopwords as sw\n",
    "from nltk.corpus import wordnet as wn\n",
    "from nltk import wordpunct_tokenize\n",
    "from nltk import WordNetLemmatizer\n",
    "from nltk import sent_tokenize\n",
    "from nltk import pos_tag\n",
    "\n",
    "from sklearn.pipeline import Pipeline\n",
    "from sklearn.preprocessing import LabelEncoder\n",
    "from sklearn.linear_model import SGDClassifier\n",
    "from sklearn.base import BaseEstimator, TransformerMixin\n",
    "from sklearn.metrics import classification_report as clsr\n",
    "from sklearn.feature_extraction.text import TfidfVectorizer\n",
    "from sklearn.cross_validation import train_test_split as tts"
   ]
  },
  {
   "cell_type": "code",
   "execution_count": null,
   "metadata": {},
   "outputs": [],
   "source": [
    "le=LabelEncoder()\n",
    "le.fit(y_train)"
   ]
  },
  {
   "cell_type": "code",
   "execution_count": 75,
   "metadata": {},
   "outputs": [
    {
     "name": "stderr",
     "output_type": "stream",
     "text": [
      "/usr/local/lib/python3.6/site-packages/sklearn/preprocessing/label.py:151: DeprecationWarning: The truth value of an empty array is ambiguous. Returning False, but in future this will result in an error. Use `array.size > 0` to check that an array is not empty.\n",
      "  if diff:\n"
     ]
    }
   ],
   "source": [
    "y_pred_dev = le.inverse_transform(y_pred_dev)"
   ]
  },
  {
   "cell_type": "code",
   "execution_count": 66,
   "metadata": {
    "scrolled": true
   },
   "outputs": [
    {
     "name": "stderr",
     "output_type": "stream",
     "text": [
      "/usr/local/lib/python3.6/site-packages/sklearn/preprocessing/label.py:151: DeprecationWarning: The truth value of an empty array is ambiguous. Returning False, but in future this will result in an error. Use `array.size > 0` to check that an array is not empty.\n",
      "  if diff:\n"
     ]
    },
    {
     "data": {
      "text/plain": [
       "0.5109635577516985"
      ]
     },
     "execution_count": 66,
     "metadata": {},
     "output_type": "execute_result"
    }
   ],
   "source": [
    "accuracy_score(le.inverse_transform(y_pred_dev), y_dev)"
   ]
  },
  {
   "cell_type": "code",
   "execution_count": 67,
   "metadata": {},
   "outputs": [
    {
     "name": "stderr",
     "output_type": "stream",
     "text": [
      "/usr/local/lib/python3.6/site-packages/sklearn/preprocessing/label.py:151: DeprecationWarning: The truth value of an empty array is ambiguous. Returning False, but in future this will result in an error. Use `array.size > 0` to check that an array is not empty.\n",
      "  if diff:\n"
     ]
    }
   ],
   "source": [
    "X_test = test_raw.iloc[:,-1]\n",
    "y_test = test_top10.iloc[:,-1]\n",
    "y_pred_test = model.predict(X_test)\n",
    "y_pred_test = le.inverse_transform(y_pred_test)\n"
   ]
  },
  {
   "cell_type": "code",
   "execution_count": null,
   "metadata": {},
   "outputs": [],
   "source": [
    "import string\n",
    "import time\n",
    "\n",
    "from nltk.corpus import stopwords\n",
    "from nltk.corpus import wordnet\n",
    "from nltk import wordpunct_tokenize\n",
    "from nltk import WordNetLemmatizer\n",
    "from nltk import sent_tokenize\n",
    "from nltk import pos_tag\n",
    "\n",
    "from sklearn.feature_extraction.text import TfidfVectorizer\n",
    "from sklearn.feature_extraction.text import CountVectorizer\n",
    "\n",
    "\n",
    "stopwords = set(stopwords.words('english'))\n",
    "punct = set(string.punctuation)\n",
    "def lemmatize(token, tag):\n",
    "    '''\n",
    "    convert pos tag to wordnet tag for lemmatisation\n",
    "    '''\n",
    "    tag = {\n",
    "        'N' : 'n',\n",
    "        'V' : 'v',\n",
    "        'J' : 'a',\n",
    "        'R' : 'r'\n",
    "    }.get(tag[0], wordnet.NOUN)\n",
    "\n",
    "    return WordNetLemmatizer().lemmatize(token, tag)\n",
    "    \n",
    "def tokenize(document):\n",
    "    \"\"\"\n",
    "    Returns a normalized, lemmatized list of tokens from a document by\n",
    "    applying segmentation (breaking into sentences), then word/punctuation\n",
    "    tokenization, and finally part of speech tagging. It uses the part of\n",
    "    speech tags to look up the lemma in WordNet, and returns the lowercase\n",
    "    version of all the words, removing stopwords and punctuation.\n",
    "    \"\"\"\n",
    "    \n",
    "    lemmas = []\n",
    "    \n",
    "    # Break the document into sentences\n",
    "    for sent in sent_tokenize(document):\n",
    "        # Break the sentence into part of speech tagged tokens\n",
    "        for token, tag in pos_tag(wordpunct_tokenize(sent)):\n",
    "            # Apply preprocessing to the token\n",
    "            token = token.lower().strip().strip('_').strip('*')\n",
    "\n",
    "            # If punctuation or stopword, ignore token and continue\n",
    "            if token in stopwords or all(char in punct for char in token):\n",
    "                #print(\"Stopword\", token)\n",
    "                continue\n",
    "\n",
    "            # Lemmatize the token and yield\n",
    "            lemma = lemmatize(token, tag)\n",
    "            lemmas.append(lemma)\n",
    "    \n",
    "    return lemmas\n",
    "\n",
    "\n",
    "def tokenizer_(arg):\n",
    "    return arg\n",
    "\n",
    "curr_time = time.time()\n",
    "\n",
    "\n",
    "\n",
    "from multiprocessing import cpu_count\n",
    " \n",
    "cores = cpu_count() \n",
    "partitions = cores \n",
    "\n",
    "def worker(data):\n",
    "    return data.apply(tokenize)\n",
    "\n",
    "# parallelised preprocessing of raw files\n",
    "def parallelize_apply(data, func):\n",
    "    data_split = np.array_split(data, partitions)\n",
    "    pool = multiprocessing.Pool(cores)\n",
    "    data = pd.concat(pool.map(func, data_split))\n",
    "    pool.close()\n",
    "    pool.join()\n",
    "    return data\n",
    "\n",
    "# Skip this part if you have alrady found trained feature files, this takes a long time\n",
    "\n",
    "print(\"Training...\")\n",
    "\n",
    "X_train = parallelize_apply(train_raw.iloc[:,-1], worker).tolist()\n",
    "y_train = train_top10.iloc[:,-1]\n",
    "\n",
    "print(\"Training transform complete, cost\", time.time() - curr_time)\n",
    "\n",
    "le=LabelEncoder()\n",
    "y_train = le.fit_transform(y_train)\n",
    "\n",
    "print(\"Deving\")\n",
    "\n",
    "X_dev = parallelize_apply(dev_raw.iloc[:,-1], worker).tolist()\n",
    "y_dev = dev_top10.iloc[:,-1]\n",
    "\n",
    "print(\"Dev transform complete, cost\", time.time() - curr_time)"
   ]
  },
  {
   "cell_type": "code",
   "execution_count": 13,
   "metadata": {},
   "outputs": [],
   "source": [
    "# saving new feature files, or you can load trained feature files\n",
    "import pickle\n",
    "\n",
    "with open(\"X_train_feature.txt\", \"wb\") as fp:   \n",
    "    pickle.dump(X_train, fp)\n",
    "    \n",
    "with open(\"X_dev_feature.txt\", \"wb\") as fp:   \n",
    "    pickle.dump(X_dev, fp)\n",
    "\n",
    "with open(\"X_train_feature.txt\", \"rb\") as fp:   # Unpickling\n",
    "    X_train = pickle.load(fp)\n",
    "    \n",
    "with open(\"X_dev_feature.txt\", \"rb\") as fp:   # Unpickling\n",
    "    X_dev = pickle.load(fp)"
   ]
  },
  {
   "cell_type": "code",
   "execution_count": null,
   "metadata": {},
   "outputs": [],
   "source": [
    "from sklearn.pipeline import Pipeline\n",
    "clf = Pipeline([('vect', TfidfVectorizer(tokenizer=tokenizer_, preprocessor=None, lowercase=False)),\n",
    "                     ('clf', SGDClassifier())\n",
    "                    ])\n",
    "\n",
    "print(\"Fitting...\")\n",
    "curr_time = time.time()\n",
    "clf = clf.fit(X_train, y_train)\n",
    "\n",
    "print(\"Fitting complete, cost\", time.time() - curr_time)\n",
    "\n",
    "y_dev_pred = le.inverse_transform(clf.predict(X_dev))"
   ]
  },
  {
   "cell_type": "code",
   "execution_count": 24,
   "metadata": {},
   "outputs": [
    {
     "name": "stdout",
     "output_type": "stream",
     "text": [
      "accuracy score 0.5106988440836495\n",
      "Normalized confusion matrix\n",
      "[[5.56946565e-01 4.43053435e-01 0.00000000e+00 0.00000000e+00\n",
      "  0.00000000e+00]\n",
      " [8.29575673e-02 9.16579951e-01 2.89050757e-04 1.73430454e-04\n",
      "  0.00000000e+00]\n",
      " [2.59287926e-02 9.74071207e-01 0.00000000e+00 0.00000000e+00\n",
      "  0.00000000e+00]\n",
      " [3.44827586e-02 9.65517241e-01 0.00000000e+00 0.00000000e+00\n",
      "  0.00000000e+00]\n",
      " [2.14001187e-01 7.85744555e-01 1.69505890e-04 8.47529452e-05\n",
      "  0.00000000e+00]]\n"
     ]
    },
    {
     "name": "stderr",
     "output_type": "stream",
     "text": [
      "/usr/local/lib/python3.6/site-packages/sklearn/metrics/classification.py:1135: UndefinedMetricWarning: Precision and F-score are ill-defined and being set to 0.0 in labels with no predicted samples.\n",
      "  'precision', 'predicted', average, warn_for)\n"
     ]
    },
    {
     "name": "stdout",
     "output_type": "stream",
     "text": [
      "             precision    recall  f1-score   support\n",
      "\n",
      "      14-16       0.64      0.56      0.60     13100\n",
      "      24-26       0.47      0.92      0.62     17298\n",
      "      34-36       0.00      0.00      0.00      2584\n",
      "      44-46       0.00      0.00      0.00       551\n",
      "          ?       0.00      0.00      0.00     11799\n",
      "\n",
      "avg / total       0.36      0.51      0.41     45332\n",
      "\n"
     ]
    },
    {
     "data": {
      "image/png": "[encoded data removed]",
      "text/plain": [
       "<Figure size 432x288 with 2 Axes>"
      ]
     },
     "metadata": {},
     "output_type": "display_data"
    }
   ],
   "source": [
    "print(\"accuracy score\", accuracy_score(y_pred=y_dev_pred, y_true=y_dev))\n",
    "cm = confusion_matrix(y_pred=y_dev_pred, y_true=y_dev)\n",
    "plot_confusion_matrix(cm, classes=classes, normalize=True, title='normalised confusion matrix')\n",
    "print(classification_report(y_pred=y_dev_pred, y_true=y_dev, target_names=classes))"
   ]
  },
  {
   "cell_type": "code",
   "execution_count": null,
   "metadata": {},
   "outputs": [
    {
     "name": "stderr",
     "output_type": "stream",
     "text": [
      "/usr/local/lib/python3.6/site-packages/sklearn/linear_model/stochastic_gradient.py:128: FutureWarning: max_iter and tol parameters have been added in <class 'sklearn.linear_model.stochastic_gradient.SGDClassifier'> in 0.19. If both are left unset, they default to max_iter=5 and tol=None. If tol is not None, max_iter defaults to max_iter=1000. From 0.21, default max_iter will be 1000, and default tol will be 1e-3.\n",
      "  \"and default tol will be 1e-3.\" % type(self), FutureWarning)\n",
      "/usr/local/lib/python3.6/site-packages/sklearn/linear_model/stochastic_gradient.py:128: FutureWarning: max_iter and tol parameters have been added in <class 'sklearn.linear_model.stochastic_gradient.SGDClassifier'> in 0.19. If both are left unset, they default to max_iter=5 and tol=None. If tol is not None, max_iter defaults to max_iter=1000. From 0.21, default max_iter will be 1000, and default tol will be 1e-3.\n",
      "  \"and default tol will be 1e-3.\" % type(self), FutureWarning)\n",
      "/usr/local/lib/python3.6/site-packages/sklearn/linear_model/stochastic_gradient.py:128: FutureWarning: max_iter and tol parameters have been added in <class 'sklearn.linear_model.stochastic_gradient.SGDClassifier'> in 0.19. If both are left unset, they default to max_iter=5 and tol=None. If tol is not None, max_iter defaults to max_iter=1000. From 0.21, default max_iter will be 1000, and default tol will be 1e-3.\n",
      "  \"and default tol will be 1e-3.\" % type(self), FutureWarning)\n",
      "/usr/local/lib/python3.6/site-packages/sklearn/linear_model/stochastic_gradient.py:128: FutureWarning: max_iter and tol parameters have been added in <class 'sklearn.linear_model.stochastic_gradient.SGDClassifier'> in 0.19. If both are left unset, they default to max_iter=5 and tol=None. If tol is not None, max_iter defaults to max_iter=1000. From 0.21, default max_iter will be 1000, and default tol will be 1e-3.\n",
      "  \"and default tol will be 1e-3.\" % type(self), FutureWarning)\n",
      "/usr/local/lib/python3.6/site-packages/sklearn/linear_model/stochastic_gradient.py:128: FutureWarning: max_iter and tol parameters have been added in <class 'sklearn.linear_model.stochastic_gradient.SGDClassifier'> in 0.19. If both are left unset, they default to max_iter=5 and tol=None. If tol is not None, max_iter defaults to max_iter=1000. From 0.21, default max_iter will be 1000, and default tol will be 1e-3.\n",
      "  \"and default tol will be 1e-3.\" % type(self), FutureWarning)\n",
      "/usr/local/lib/python3.6/site-packages/sklearn/linear_model/stochastic_gradient.py:128: FutureWarning: max_iter and tol parameters have been added in <class 'sklearn.linear_model.stochastic_gradient.SGDClassifier'> in 0.19. If both are left unset, they default to max_iter=5 and tol=None. If tol is not None, max_iter defaults to max_iter=1000. From 0.21, default max_iter will be 1000, and default tol will be 1e-3.\n",
      "  \"and default tol will be 1e-3.\" % type(self), FutureWarning)\n"
     ]
    }
   ],
   "source": [
    "# grid search to tune parameters. Warning, it may crap your computer, run with caution\n",
    "from sklearn.model_selection import GridSearchCV\n",
    "parameters = {'vect__ngram_range': [(1, 1), (1, 2)],\n",
    "              'vect__use_idf': (True, False),\n",
    "              'clf__alpha': (1e-2, 1e-3),\n",
    "             }\n",
    "gs_clf = GridSearchCV(clf, parameters, n_jobs=-1)\n",
    "gs_clf = gs_clf.fit(X_train, y_train)\n",
    "print(gs_clf.best_score_)\n",
    "print(gs_clf.best_params_)"
   ]
  },
  {
   "cell_type": "code",
   "execution_count": 11,
   "metadata": {},
   "outputs": [],
   "source": [
    "# output to formatted csv\n",
    "def get_formatted_output(y_pred):\n",
    "    result = pd.DataFrame(y_pred)\n",
    "    index_list = ['3'+str(i+1) for i in range(len(result))]\n",
    "    index_list = pd.DataFrame(index_list)\n",
    "    result = pd.concat([index_list, result], axis=1)\n",
    "\n",
    "    result.columns=['Id','Prediction']\n",
    "\n",
    "    result.to_csv('out.csv',index=False,index_label=False)\n",
    "    return result\n",
    "\n",
    "#y_pred = clf.predict(X_test)\n",
    "#y_pred = y_p\n",
    "#new_dev_top10 = pd.concat([dev_raw.iloc[:,0], pd.DataFrame(y_pred), dev_top10], axis=1, ignore_index=True)\n",
    "\n",
    "new_dev_top10 = pd.concat([test_raw.iloc[:,0], pd.DataFrame(y_pred_test), test_top10], axis=1, ignore_index=True)\n",
    "y_test = y_test\n",
    "\n",
    "\n",
    "run_test(k=0.33)\n",
    "\n",
    "# tuning using index information\n",
    "def run_test(k=0.71, isTest=False):\n",
    "    counter = 0\n",
    "    error_counter = 0\n",
    "    total_error_instance = 0\n",
    "    correct_counter = 0\n",
    "\n",
    "    corrected_dict = {}\n",
    "\n",
    "    for key, val in new_dev_top10.groupby(0):\n",
    "\n",
    "        val_ = val.groupby(1)\n",
    "        first_max = None\n",
    "        first_max_name = None\n",
    "        second_max = None\n",
    "\n",
    "        if len(val_) > 1:\n",
    "            max_list = [len(i[1]) for i in list(val_.groups.items())]\n",
    "            max_list_cpy=max_list.copy()\n",
    "            first_max = max(max_list)\n",
    "            first_max_name = [i[0] for i in list(val_.groups.items()) if len(i[1])==first_max][0]\n",
    "            max_list.remove(first_max)\n",
    "            second_max = max(max_list)\n",
    "            counter += 1\n",
    "\n",
    "            if ((first_max - second_max) / first_max) < k:\n",
    "            #if np.std(max_list_cpy) < k*10:\n",
    "                #print(key)\n",
    "                #print([(i[0], len(i[1])) for i in val_.groups.items()])\n",
    "                error_counter+=1\n",
    "            else:\n",
    "                corrected_dict[key] = first_max_name\n",
    "                total_error_instance += sum(max_list)\n",
    "        else:\n",
    "            correct_counter+=1\n",
    "\n",
    "    \n",
    "    #print(error_counter, counter, correct_counter, total_error_instance)\n",
    "\n",
    "    new_y_pred = []\n",
    "\n",
    "    for i in range(len(new_dev_top10)):\n",
    "\n",
    "        val = corrected_dict.get((new_dev_top10.iloc[i,0]), None)\n",
    "        if val == None:\n",
    "            new_y_pred.append(new_dev_top10.iloc[i,1])\n",
    "        else:\n",
    "            new_y_pred.append(val)\n",
    "    if isTest:\n",
    "        return new_y_pred\n",
    "    \n",
    "    return (k, accuracy_score(y_pred=new_y_pred, y_true=y_test))\n",
    "\n",
    "result = []\n",
    "p = multiprocessing.Pool()\n",
    "result = p.map(run_test, [i/100 for i in range(1,100)])\n",
    "p.close()\n",
    "print(sorted(result, key=lambda item:item[1], reverse=True)[0])\n",
    "\n",
    "plt.scatter([i[0] for i in result],[i[1] for i in result])\n",
    "plt.show()\n",
    "\n",
    "len(get_formatted_output(run_test(k=0.33, isTest=True)))"
   ]
  },
  {
   "cell_type": "code",
   "execution_count": null,
   "metadata": {},
   "outputs": [],
   "source": []
  }
 ],
 "metadata": {
  "kernelspec": {
   "display_name": "Python 3",
   "language": "python",
   "name": "python3"
  },
  "language_info": {
   "codemirror_mode": {
    "name": "ipython",
    "version": 3
   },
   "file_extension": ".py",
   "mimetype": "text/x-python",
   "name": "python",
   "nbconvert_exporter": "python",
   "pygments_lexer": "ipython3",
   "version": "3.6.5"
  }
 },
 "nbformat": 4,
 "nbformat_minor": 2
}
